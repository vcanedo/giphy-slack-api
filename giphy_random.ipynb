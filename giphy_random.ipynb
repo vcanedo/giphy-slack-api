{
 "cells": [
  {
   "cell_type": "code",
   "execution_count": 5,
   "metadata": {},
   "outputs": [
    {
     "data": {
      "text/plain": [
       "True"
      ]
     },
     "execution_count": 5,
     "metadata": {},
     "output_type": "execute_result"
    }
   ],
   "source": [
    "import requests\n",
    "import os\n",
    "from dotenv import load_dotenv\n",
    "\n",
    "# Load environment variables from .env file\n",
    "load_dotenv()"
   ]
  },
  {
   "cell_type": "code",
   "execution_count": 6,
   "metadata": {},
   "outputs": [
    {
     "name": "stdout",
     "output_type": "stream",
     "text": [
      "GIF URL: https://giphy.com/gifs/lilnasx-holiday-lil-nas-x-2fsR6FIioyfACLMHen\n",
      "Message sent to Slack successfully\n"
     ]
    }
   ],
   "source": [
    "# API key setup\n",
    "API_KEY = os.getenv('GIPHY_API_KEY')\n",
    "SLACK_BOT_TOKEN = os.getenv('SLACK_BOT_TOKEN')\n",
    "\n",
    "\n",
    "def get_random_gif(api_key, tag=None, rating=None, random_id=None):\n",
    "    url = \"https://api.giphy.com/v1/gifs/random\"\n",
    "    params = {\n",
    "        \"api_key\": api_key,\n",
    "        \"tag\": tag,\n",
    "        \"rating\": rating,\n",
    "        \"random_id\": random_id\n",
    "    }\n",
    "    response = requests.get(url, params=params)\n",
    "    if response.status_code == 200:\n",
    "        return response.json()\n",
    "    else:\n",
    "        return {\n",
    "            'error': f'Failed to fetch random gif, status code: {response.status_code}',\n",
    "            'response_text': response.text\n",
    "        }\n",
    "\n",
    "def send_message_to_slack(token, channel, text):\n",
    "    url = \"https://slack.com/api/chat.postMessage\"\n",
    "    headers = {\n",
    "        \"Authorization\": f\"Bearer {token}\",\n",
    "        \"Content-Type\": \"application/x-www-form-urlencoded\"\n",
    "    }\n",
    "    data = {\n",
    "        \"channel\": channel,\n",
    "        \"text\": text\n",
    "    }\n",
    "    response = requests.post(url, headers=headers, data=data)\n",
    "    if response.status_code == 200 and response.json().get('ok'):\n",
    "        print(\"Message sent to Slack successfully\")\n",
    "    else:\n",
    "        print(f\"Failed to send message to Slack, status code: {response.status_code}, response: {response.text}\")\n",
    "\n",
    "if __name__ == '__main__':\n",
    "    api_key = API_KEY\n",
    "    slack_token = SLACK_BOT_TOKEN\n",
    "    slack_channel = \"#teste\"\n",
    "\n",
    "    random_response = get_random_gif(api_key=api_key, tag=\"tristeza\")\n",
    "\n",
    "    if 'data' in random_response and 'url' in random_response['data']:\n",
    "        gif_url = random_response['data']['url']\n",
    "        print(f\"GIF URL: {gif_url}\")\n",
    "        send_message_to_slack(token=slack_token, channel=slack_channel, text=gif_url)\n",
    "    else:\n",
    "        print(\"Failed to retrieve GIF URL\")"
   ]
  }
 ],
 "metadata": {
  "kernelspec": {
   "display_name": "Python 3",
   "language": "python",
   "name": "python3"
  },
  "language_info": {
   "codemirror_mode": {
    "name": "ipython",
    "version": 3
   },
   "file_extension": ".py",
   "mimetype": "text/x-python",
   "name": "python",
   "nbconvert_exporter": "python",
   "pygments_lexer": "ipython3",
   "version": "3.10.12"
  }
 },
 "nbformat": 4,
 "nbformat_minor": 2
}
